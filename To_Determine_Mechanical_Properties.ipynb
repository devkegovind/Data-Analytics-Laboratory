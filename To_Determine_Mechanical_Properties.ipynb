{
  "nbformat": 4,
  "nbformat_minor": 0,
  "metadata": {
    "colab": {
      "provenance": [],
      "authorship_tag": "ABX9TyMzsq4kdlFztjPgewKZce5z",
      "include_colab_link": true
    },
    "kernelspec": {
      "name": "python3",
      "display_name": "Python 3"
    },
    "language_info": {
      "name": "python"
    }
  },
  "cells": [
    {
      "cell_type": "markdown",
      "metadata": {
        "id": "view-in-github",
        "colab_type": "text"
      },
      "source": [
        "<a href=\"https://colab.research.google.com/github/devkegovind/Data-Analytics-Laboratory/blob/main/To_Determine_Mechanical_Properties.ipynb\" target=\"_parent\"><img src=\"https://colab.research.google.com/assets/colab-badge.svg\" alt=\"Open In Colab\"/></a>"
      ]
    },
    {
      "cell_type": "markdown",
      "source": [
        "<h1 align='center'><b>TO DETERMINE MECHANICAL PROPERTIES FROM STRESS STRAIN CURVE DATA</b></h1>"
      ],
      "metadata": {
        "id": "L3T2saauUPZg"
      }
    },
    {
      "cell_type": "markdown",
      "source": [
        "<h4 align='justify'><b>Aim: To determine mechanical properties from stress strain curve data.</b></h4>\n",
        "<h4 align='justify'><b>Prerequisites: Tensile Test data, Jupyter Notebook / Google Colab</b></h4>\n",
        "<h4 align='justify'><b>Theory:</b></h4>\n",
        "<h4 align='justify'><b>Tensile Test:</b></h4>\n",
        "<h4 align='justify'>A tensile test is a type of mechanical test performed by engineers used to determine the mechanical properties of a material. Engineering metal alloys such as steel and aluminium alloys are tensile tested in order to determine their strength and stiffness. Tensile tests are performed in a piece of equipment called a mechanical test frame.\n",
        " \n",
        "\n",
        "Fig: Tensile Test Set up for Data Acquisition \n",
        "\n",
        "<h4 align='justify'>After a tensile test is complete, a set of data is produced by the mechanical test frame. Using the data acquired during a tensile test, a stress-strain curve can be produced.\n",
        "In this post, we will create a stress-strain curve (a plot) from a set of tensile test data of a steel 1045 sample and an aluminium 6061 sample. The stress strain curve we construct will have the following features:</h4>\n",
        "\n",
        "- A descriptive title\n",
        "- Axes labels with units\n",
        "- Two lines on the same plot. One line for steel 1045 and one line for aluminum 6061\n",
        "- A legend\n",
        "\n",
        "<h4 align='justify'></b>Procedure:</b></h4>\n",
        "\n",
        "1.\tInstall Python:We are going to build our stress strain curve with Python and a Jupyter notebook. I suggest engineers and problem-solvers download and install the Anaconda distribution of Python. See this post to learn how to install Anaconda on your computer. Alternatively, you can download Python form Python.org or download Python the Microsoft Store.\n",
        "2.\tOpen a Jupyter notebook\n",
        "We will construct our stress strain curve using a Jupyter notebook. See this post to see how to open a Jupyter notebook.\n",
        "Make sure to save your Jupyter notebook with a recognizable name.\n",
        "3.\tDownload the data and move the data into the same folder as the Jupyter notebook\n",
        " Next, we need to download the two data files that we will use to build our stress-strain curve. You can download sample data using the links below:\n",
        "steel1045.xls\n",
        "aluminum6061.xls\n",
        "After these .xls files are downloaded, both .xls files need to be moved into the same folder as our Jupyter notebook.\n",
        "\n",
        "4.\tInstall Jupyter, NumPy, Pandas, and Matplotlib Once Python is installed, the next thing we need to do is install a couple of Python packages. If you are using the Anaconda distribution of Python, the packages we are going to use to build the plot: Jupyter, NumPy, Pandas, and Matplotlib come pre-installed and no additional installation steps are necessary.\n",
        "5.\tImport NumPy, Pandas, and Matplotlib\n",
        "Now that our Jupyter notebook is open and the two .xls data files are in the same folder as the Jupyter notebook, we can start coding and build our plot.\n",
        "At the top of the Jupyter notebook, import NumPy, Pandas and Matplotlib. The command %matplotlib inline is included so that our plot will display directly inside our Jupyter notebook. If you are using a .py file instead of a Jupyter notebook, make sure to comment out %matplotlib inline as this line is not valid Python code.\n",
        "We will also print out the versions of our NumPy and Pandas packages using the .__version__ attribute. If the versions of NumPy and Pandas prints out, that means that NumPy and Pandas are installed and we can use these packages in our code.\n",
        "\n",
        "6.\tEnsure the two .xls data files are in the same folder as the Jupyter notebook\n",
        "7.\tBefore we proceed, let's make sure the two .xls data files are in the same folder as our running Jupyter notebook. We'll use a Jupyter notebook magic command to print out the contents of the folder that our notebook is in. The %ls command lists the contents of the current folder.\n",
        "8.\tCreate stress and strain series from the FORCE, EXT, and CH5 columns\n",
        "- FORCE Force measurements from the load cell in pounds (lb), force in pounds\n",
        "- EXT Extension measurements from the mechanical extensometer in percent (%), strain in percent\n",
        "- CH5 Extension readings from the laser extensometer in percent (%), strain in percent\n",
        "\n",
        "Next we'll create a four Pandas series from the ['CH5'] and ['FORCE'] columns of our al_df and steel_df dataframes. The equations below show how to calculate stress, σ and strain, ϵ, from force F and cross-sectional area A. Cross-sectional area A is the formula for the area of a circle. For the steel and aluminium samples we tested, the diameter d was 0.506 in.\n",
        "\n",
        " \n",
        "\n",
        "<h4><b>Calculate ductility</b></h4>\n",
        "<h4 align='justify'>The ductility of a metal is calculated from a stress strain curve by drawing a line down from the fracture point on the curve, parallel to the linear elastic region. Where that line crosses the strain axis is the ductility.\n",
        "Point-Slope Formula for a line:</h4>\n",
        "$y-y1=m(x−x1)$\n",
        "\n",
        "Where m= slope in the linear elastic region (elastic modulus), \n",
        "\n",
        "$x1$ = last strain point on the stress strain curve,\n",
        "\n",
        "$y1$ = last stress point on the stress strain curve.\n",
        "\n",
        "Solve the equation above for x, when y=0  in terms of x1, x2  and m \n",
        "$x= ( − y1/  m)+ x1$\n",
        "\n",
        "Substitute in ductility, elastic modulus EE, and the last stress and strain points.\n",
        "\n",
        "$percen. EL$= $(−stresslast / E)$ + $strainlast$\n",
        "\n",
        "Results :\n",
        "Sr. No\tMechanical property\tMechanical property from Program\n",
        "\t\tSteal1045\tAluminium6061\n",
        "\n",
        "1\tTensile Strength\t\t\n",
        "2\tElastic Modulus\t\t\n",
        "3\tDuctility\t\t\n",
        "\n",
        "<h4 align='justify'><b>Conclusion:</b></h4>\n",
        "<h4 align='justify'>In this practical, we built a stress strain curve using Python. With the help of python libraries like Numpy, Panda, Matplotlib, scipy we have calculated the mechanical properties of metals steal1045 and aluminium6061 from tensile test data.</h4>\n"
      ],
      "metadata": {
        "id": "3Hew6ewaUPRD"
      }
    },
    {
      "cell_type": "markdown",
      "source": [
        "<h4><b>Importing Library</b></h4>"
      ],
      "metadata": {
        "id": "BLIzv7uFnhBM"
      }
    },
    {
      "cell_type": "code",
      "source": [
        "import numpy as np\n",
        "import pandas as pd\n",
        "import matplotlib.pyplot as plt\n",
        "import seaborn as sns"
      ],
      "metadata": {
        "id": "ww716376ngY8"
      },
      "execution_count": 1,
      "outputs": []
    },
    {
      "cell_type": "markdown",
      "source": [
        "<h4><b>Importing Dataset</b></h4>"
      ],
      "metadata": {
        "id": "V3pr26Run1wj"
      }
    },
    {
      "cell_type": "code",
      "execution_count": 2,
      "metadata": {
        "id": "9t8eohOzTsZN",
        "colab": {
          "base_uri": "https://localhost:8080/"
        },
        "outputId": "4bd4f256-3f55-4b17-a0a7-805abd30656d"
      },
      "outputs": [
        {
          "output_type": "stream",
          "name": "stdout",
          "text": [
            "Mounted at /content/drive\n"
          ]
        }
      ],
      "source": [
        "from google.colab import drive\n",
        "drive.mount('/content/drive')"
      ]
    },
    {
      "cell_type": "code",
      "source": [
        "df_al = pd.read_excel(r'/content/drive/MyDrive/Colab Notebooks/DAL/aluminum6061.xls')\n",
        "df_al"
      ],
      "metadata": {
        "colab": {
          "base_uri": "https://localhost:8080/",
          "height": 441
        },
        "id": "ETYIIOGDnNum",
        "outputId": "1565ba17-7b63-4e3c-96bc-259dd8cf70c8"
      },
      "execution_count": 3,
      "outputs": [
        {
          "output_type": "stream",
          "name": "stdout",
          "text": [
            "WARNING *** OLE2 inconsistency: SSCS size is 0 but SSAT size is non-zero\n"
          ]
        },
        {
          "output_type": "execute_result",
          "data": {
            "text/plain": [
              "     TESTNUM  POINTNUM     TIME    POSIT        FORCE       EXT        CH5  \\\n",
              "0        761         1    6.532  0.01524   201.158508  0.018893  -0.023081   \n",
              "1        761         2    6.702  0.01600   205.978119  0.000265  -0.013024   \n",
              "2        761         3    7.098  0.01720   219.295441 -0.000877  -0.024879   \n",
              "3        761         4    8.697  0.02350   268.505890  0.001453  -0.006798   \n",
              "4        761         5   10.196  0.03004   322.028168  0.001865   0.012563   \n",
              "..       ...       ...      ...      ...          ...       ...        ...   \n",
              "195      761       196  146.741  0.66782  8182.946777  3.007105  17.382132   \n",
              "196      761       197  146.938  0.67016  8123.916016  3.007105  17.502197   \n",
              "197      761       198  147.141  0.67172  8074.892090  3.007105  17.502197   \n",
              "198      761       199  147.339  0.67326  8019.407227  3.007105  17.622837   \n",
              "199      761       200  147.444  0.67402  7977.476562  3.007105  17.741186   \n",
              "\n",
              "     CH6  CH7  CH8  \n",
              "0    NaN  NaN  NaN  \n",
              "1    NaN  NaN  NaN  \n",
              "2    NaN  NaN  NaN  \n",
              "3    NaN  NaN  NaN  \n",
              "4    NaN  NaN  NaN  \n",
              "..   ...  ...  ...  \n",
              "195  NaN  NaN  NaN  \n",
              "196  NaN  NaN  NaN  \n",
              "197  NaN  NaN  NaN  \n",
              "198  NaN  NaN  NaN  \n",
              "199  NaN  NaN  NaN  \n",
              "\n",
              "[200 rows x 10 columns]"
            ],
            "text/html": [
              "\n",
              "  <div id=\"df-ddfa9a17-cb29-4978-abe9-ad27c1161838\">\n",
              "    <div class=\"colab-df-container\">\n",
              "      <div>\n",
              "<style scoped>\n",
              "    .dataframe tbody tr th:only-of-type {\n",
              "        vertical-align: middle;\n",
              "    }\n",
              "\n",
              "    .dataframe tbody tr th {\n",
              "        vertical-align: top;\n",
              "    }\n",
              "\n",
              "    .dataframe thead th {\n",
              "        text-align: right;\n",
              "    }\n",
              "</style>\n",
              "<table border=\"1\" class=\"dataframe\">\n",
              "  <thead>\n",
              "    <tr style=\"text-align: right;\">\n",
              "      <th></th>\n",
              "      <th>TESTNUM</th>\n",
              "      <th>POINTNUM</th>\n",
              "      <th>TIME</th>\n",
              "      <th>POSIT</th>\n",
              "      <th>FORCE</th>\n",
              "      <th>EXT</th>\n",
              "      <th>CH5</th>\n",
              "      <th>CH6</th>\n",
              "      <th>CH7</th>\n",
              "      <th>CH8</th>\n",
              "    </tr>\n",
              "  </thead>\n",
              "  <tbody>\n",
              "    <tr>\n",
              "      <th>0</th>\n",
              "      <td>761</td>\n",
              "      <td>1</td>\n",
              "      <td>6.532</td>\n",
              "      <td>0.01524</td>\n",
              "      <td>201.158508</td>\n",
              "      <td>0.018893</td>\n",
              "      <td>-0.023081</td>\n",
              "      <td>NaN</td>\n",
              "      <td>NaN</td>\n",
              "      <td>NaN</td>\n",
              "    </tr>\n",
              "    <tr>\n",
              "      <th>1</th>\n",
              "      <td>761</td>\n",
              "      <td>2</td>\n",
              "      <td>6.702</td>\n",
              "      <td>0.01600</td>\n",
              "      <td>205.978119</td>\n",
              "      <td>0.000265</td>\n",
              "      <td>-0.013024</td>\n",
              "      <td>NaN</td>\n",
              "      <td>NaN</td>\n",
              "      <td>NaN</td>\n",
              "    </tr>\n",
              "    <tr>\n",
              "      <th>2</th>\n",
              "      <td>761</td>\n",
              "      <td>3</td>\n",
              "      <td>7.098</td>\n",
              "      <td>0.01720</td>\n",
              "      <td>219.295441</td>\n",
              "      <td>-0.000877</td>\n",
              "      <td>-0.024879</td>\n",
              "      <td>NaN</td>\n",
              "      <td>NaN</td>\n",
              "      <td>NaN</td>\n",
              "    </tr>\n",
              "    <tr>\n",
              "      <th>3</th>\n",
              "      <td>761</td>\n",
              "      <td>4</td>\n",
              "      <td>8.697</td>\n",
              "      <td>0.02350</td>\n",
              "      <td>268.505890</td>\n",
              "      <td>0.001453</td>\n",
              "      <td>-0.006798</td>\n",
              "      <td>NaN</td>\n",
              "      <td>NaN</td>\n",
              "      <td>NaN</td>\n",
              "    </tr>\n",
              "    <tr>\n",
              "      <th>4</th>\n",
              "      <td>761</td>\n",
              "      <td>5</td>\n",
              "      <td>10.196</td>\n",
              "      <td>0.03004</td>\n",
              "      <td>322.028168</td>\n",
              "      <td>0.001865</td>\n",
              "      <td>0.012563</td>\n",
              "      <td>NaN</td>\n",
              "      <td>NaN</td>\n",
              "      <td>NaN</td>\n",
              "    </tr>\n",
              "    <tr>\n",
              "      <th>...</th>\n",
              "      <td>...</td>\n",
              "      <td>...</td>\n",
              "      <td>...</td>\n",
              "      <td>...</td>\n",
              "      <td>...</td>\n",
              "      <td>...</td>\n",
              "      <td>...</td>\n",
              "      <td>...</td>\n",
              "      <td>...</td>\n",
              "      <td>...</td>\n",
              "    </tr>\n",
              "    <tr>\n",
              "      <th>195</th>\n",
              "      <td>761</td>\n",
              "      <td>196</td>\n",
              "      <td>146.741</td>\n",
              "      <td>0.66782</td>\n",
              "      <td>8182.946777</td>\n",
              "      <td>3.007105</td>\n",
              "      <td>17.382132</td>\n",
              "      <td>NaN</td>\n",
              "      <td>NaN</td>\n",
              "      <td>NaN</td>\n",
              "    </tr>\n",
              "    <tr>\n",
              "      <th>196</th>\n",
              "      <td>761</td>\n",
              "      <td>197</td>\n",
              "      <td>146.938</td>\n",
              "      <td>0.67016</td>\n",
              "      <td>8123.916016</td>\n",
              "      <td>3.007105</td>\n",
              "      <td>17.502197</td>\n",
              "      <td>NaN</td>\n",
              "      <td>NaN</td>\n",
              "      <td>NaN</td>\n",
              "    </tr>\n",
              "    <tr>\n",
              "      <th>197</th>\n",
              "      <td>761</td>\n",
              "      <td>198</td>\n",
              "      <td>147.141</td>\n",
              "      <td>0.67172</td>\n",
              "      <td>8074.892090</td>\n",
              "      <td>3.007105</td>\n",
              "      <td>17.502197</td>\n",
              "      <td>NaN</td>\n",
              "      <td>NaN</td>\n",
              "      <td>NaN</td>\n",
              "    </tr>\n",
              "    <tr>\n",
              "      <th>198</th>\n",
              "      <td>761</td>\n",
              "      <td>199</td>\n",
              "      <td>147.339</td>\n",
              "      <td>0.67326</td>\n",
              "      <td>8019.407227</td>\n",
              "      <td>3.007105</td>\n",
              "      <td>17.622837</td>\n",
              "      <td>NaN</td>\n",
              "      <td>NaN</td>\n",
              "      <td>NaN</td>\n",
              "    </tr>\n",
              "    <tr>\n",
              "      <th>199</th>\n",
              "      <td>761</td>\n",
              "      <td>200</td>\n",
              "      <td>147.444</td>\n",
              "      <td>0.67402</td>\n",
              "      <td>7977.476562</td>\n",
              "      <td>3.007105</td>\n",
              "      <td>17.741186</td>\n",
              "      <td>NaN</td>\n",
              "      <td>NaN</td>\n",
              "      <td>NaN</td>\n",
              "    </tr>\n",
              "  </tbody>\n",
              "</table>\n",
              "<p>200 rows × 10 columns</p>\n",
              "</div>\n",
              "      <button class=\"colab-df-convert\" onclick=\"convertToInteractive('df-ddfa9a17-cb29-4978-abe9-ad27c1161838')\"\n",
              "              title=\"Convert this dataframe to an interactive table.\"\n",
              "              style=\"display:none;\">\n",
              "        \n",
              "  <svg xmlns=\"http://www.w3.org/2000/svg\" height=\"24px\"viewBox=\"0 0 24 24\"\n",
              "       width=\"24px\">\n",
              "    <path d=\"M0 0h24v24H0V0z\" fill=\"none\"/>\n",
              "    <path d=\"M18.56 5.44l.94 2.06.94-2.06 2.06-.94-2.06-.94-.94-2.06-.94 2.06-2.06.94zm-11 1L8.5 8.5l.94-2.06 2.06-.94-2.06-.94L8.5 2.5l-.94 2.06-2.06.94zm10 10l.94 2.06.94-2.06 2.06-.94-2.06-.94-.94-2.06-.94 2.06-2.06.94z\"/><path d=\"M17.41 7.96l-1.37-1.37c-.4-.4-.92-.59-1.43-.59-.52 0-1.04.2-1.43.59L10.3 9.45l-7.72 7.72c-.78.78-.78 2.05 0 2.83L4 21.41c.39.39.9.59 1.41.59.51 0 1.02-.2 1.41-.59l7.78-7.78 2.81-2.81c.8-.78.8-2.07 0-2.86zM5.41 20L4 18.59l7.72-7.72 1.47 1.35L5.41 20z\"/>\n",
              "  </svg>\n",
              "      </button>\n",
              "      \n",
              "  <style>\n",
              "    .colab-df-container {\n",
              "      display:flex;\n",
              "      flex-wrap:wrap;\n",
              "      gap: 12px;\n",
              "    }\n",
              "\n",
              "    .colab-df-convert {\n",
              "      background-color: #E8F0FE;\n",
              "      border: none;\n",
              "      border-radius: 50%;\n",
              "      cursor: pointer;\n",
              "      display: none;\n",
              "      fill: #1967D2;\n",
              "      height: 32px;\n",
              "      padding: 0 0 0 0;\n",
              "      width: 32px;\n",
              "    }\n",
              "\n",
              "    .colab-df-convert:hover {\n",
              "      background-color: #E2EBFA;\n",
              "      box-shadow: 0px 1px 2px rgba(60, 64, 67, 0.3), 0px 1px 3px 1px rgba(60, 64, 67, 0.15);\n",
              "      fill: #174EA6;\n",
              "    }\n",
              "\n",
              "    [theme=dark] .colab-df-convert {\n",
              "      background-color: #3B4455;\n",
              "      fill: #D2E3FC;\n",
              "    }\n",
              "\n",
              "    [theme=dark] .colab-df-convert:hover {\n",
              "      background-color: #434B5C;\n",
              "      box-shadow: 0px 1px 3px 1px rgba(0, 0, 0, 0.15);\n",
              "      filter: drop-shadow(0px 1px 2px rgba(0, 0, 0, 0.3));\n",
              "      fill: #FFFFFF;\n",
              "    }\n",
              "  </style>\n",
              "\n",
              "      <script>\n",
              "        const buttonEl =\n",
              "          document.querySelector('#df-ddfa9a17-cb29-4978-abe9-ad27c1161838 button.colab-df-convert');\n",
              "        buttonEl.style.display =\n",
              "          google.colab.kernel.accessAllowed ? 'block' : 'none';\n",
              "\n",
              "        async function convertToInteractive(key) {\n",
              "          const element = document.querySelector('#df-ddfa9a17-cb29-4978-abe9-ad27c1161838');\n",
              "          const dataTable =\n",
              "            await google.colab.kernel.invokeFunction('convertToInteractive',\n",
              "                                                     [key], {});\n",
              "          if (!dataTable) return;\n",
              "\n",
              "          const docLinkHtml = 'Like what you see? Visit the ' +\n",
              "            '<a target=\"_blank\" href=https://colab.research.google.com/notebooks/data_table.ipynb>data table notebook</a>'\n",
              "            + ' to learn more about interactive tables.';\n",
              "          element.innerHTML = '';\n",
              "          dataTable['output_type'] = 'display_data';\n",
              "          await google.colab.output.renderOutput(dataTable, element);\n",
              "          const docLink = document.createElement('div');\n",
              "          docLink.innerHTML = docLinkHtml;\n",
              "          element.appendChild(docLink);\n",
              "        }\n",
              "      </script>\n",
              "    </div>\n",
              "  </div>\n",
              "  "
            ]
          },
          "metadata": {},
          "execution_count": 3
        }
      ]
    },
    {
      "cell_type": "code",
      "source": [
        "df_steel = pd.read_excel(r'/content/drive/MyDrive/Colab Notebooks/DAL/steel1045.xls')\n",
        "df_steel"
      ],
      "metadata": {
        "colab": {
          "base_uri": "https://localhost:8080/",
          "height": 423
        },
        "id": "YN0b30TjoPWb",
        "outputId": "0a27ac0c-ba84-4d88-cc25-735f64569062"
      },
      "execution_count": 4,
      "outputs": [
        {
          "output_type": "execute_result",
          "data": {
            "text/plain": [
              "     TESTNUM  POINTNUM     TIME    POSIT         FORCE       EXT        CH5  \\\n",
              "0        762         1    5.969  0.01284    201.030792  0.001572  -0.007133   \n",
              "1        762         2    6.242  0.01392    215.235886  0.000009  -0.014581   \n",
              "2        762         3    6.936  0.01646    246.816742 -0.000832   0.006942   \n",
              "3        762         4    8.632  0.02340    371.870361  0.002203   0.000776   \n",
              "4        762         5   10.533  0.03110    502.501862  0.001481   0.018102   \n",
              "..       ...       ...      ...      ...           ...       ...        ...   \n",
              "210      762       211  160.565  0.73436  20862.660156  3.013513  17.186405   \n",
              "211      762       212  160.964  0.73750  20716.890625  3.013513  17.300003   \n",
              "212      762       213  161.369  0.74056  20557.337891  3.013513  17.546461   \n",
              "213      762       214  161.657  0.74288  20433.939453  3.013513  17.671289   \n",
              "214      762       215  161.761  0.74368  20390.447266  3.013513  17.671289   \n",
              "\n",
              "     CH6  CH7  CH8  \n",
              "0    NaN  NaN  NaN  \n",
              "1    NaN  NaN  NaN  \n",
              "2    NaN  NaN  NaN  \n",
              "3    NaN  NaN  NaN  \n",
              "4    NaN  NaN  NaN  \n",
              "..   ...  ...  ...  \n",
              "210  NaN  NaN  NaN  \n",
              "211  NaN  NaN  NaN  \n",
              "212  NaN  NaN  NaN  \n",
              "213  NaN  NaN  NaN  \n",
              "214  NaN  NaN  NaN  \n",
              "\n",
              "[215 rows x 10 columns]"
            ],
            "text/html": [
              "\n",
              "  <div id=\"df-1d4cc38d-96d1-4367-b000-713a303254ce\">\n",
              "    <div class=\"colab-df-container\">\n",
              "      <div>\n",
              "<style scoped>\n",
              "    .dataframe tbody tr th:only-of-type {\n",
              "        vertical-align: middle;\n",
              "    }\n",
              "\n",
              "    .dataframe tbody tr th {\n",
              "        vertical-align: top;\n",
              "    }\n",
              "\n",
              "    .dataframe thead th {\n",
              "        text-align: right;\n",
              "    }\n",
              "</style>\n",
              "<table border=\"1\" class=\"dataframe\">\n",
              "  <thead>\n",
              "    <tr style=\"text-align: right;\">\n",
              "      <th></th>\n",
              "      <th>TESTNUM</th>\n",
              "      <th>POINTNUM</th>\n",
              "      <th>TIME</th>\n",
              "      <th>POSIT</th>\n",
              "      <th>FORCE</th>\n",
              "      <th>EXT</th>\n",
              "      <th>CH5</th>\n",
              "      <th>CH6</th>\n",
              "      <th>CH7</th>\n",
              "      <th>CH8</th>\n",
              "    </tr>\n",
              "  </thead>\n",
              "  <tbody>\n",
              "    <tr>\n",
              "      <th>0</th>\n",
              "      <td>762</td>\n",
              "      <td>1</td>\n",
              "      <td>5.969</td>\n",
              "      <td>0.01284</td>\n",
              "      <td>201.030792</td>\n",
              "      <td>0.001572</td>\n",
              "      <td>-0.007133</td>\n",
              "      <td>NaN</td>\n",
              "      <td>NaN</td>\n",
              "      <td>NaN</td>\n",
              "    </tr>\n",
              "    <tr>\n",
              "      <th>1</th>\n",
              "      <td>762</td>\n",
              "      <td>2</td>\n",
              "      <td>6.242</td>\n",
              "      <td>0.01392</td>\n",
              "      <td>215.235886</td>\n",
              "      <td>0.000009</td>\n",
              "      <td>-0.014581</td>\n",
              "      <td>NaN</td>\n",
              "      <td>NaN</td>\n",
              "      <td>NaN</td>\n",
              "    </tr>\n",
              "    <tr>\n",
              "      <th>2</th>\n",
              "      <td>762</td>\n",
              "      <td>3</td>\n",
              "      <td>6.936</td>\n",
              "      <td>0.01646</td>\n",
              "      <td>246.816742</td>\n",
              "      <td>-0.000832</td>\n",
              "      <td>0.006942</td>\n",
              "      <td>NaN</td>\n",
              "      <td>NaN</td>\n",
              "      <td>NaN</td>\n",
              "    </tr>\n",
              "    <tr>\n",
              "      <th>3</th>\n",
              "      <td>762</td>\n",
              "      <td>4</td>\n",
              "      <td>8.632</td>\n",
              "      <td>0.02340</td>\n",
              "      <td>371.870361</td>\n",
              "      <td>0.002203</td>\n",
              "      <td>0.000776</td>\n",
              "      <td>NaN</td>\n",
              "      <td>NaN</td>\n",
              "      <td>NaN</td>\n",
              "    </tr>\n",
              "    <tr>\n",
              "      <th>4</th>\n",
              "      <td>762</td>\n",
              "      <td>5</td>\n",
              "      <td>10.533</td>\n",
              "      <td>0.03110</td>\n",
              "      <td>502.501862</td>\n",
              "      <td>0.001481</td>\n",
              "      <td>0.018102</td>\n",
              "      <td>NaN</td>\n",
              "      <td>NaN</td>\n",
              "      <td>NaN</td>\n",
              "    </tr>\n",
              "    <tr>\n",
              "      <th>...</th>\n",
              "      <td>...</td>\n",
              "      <td>...</td>\n",
              "      <td>...</td>\n",
              "      <td>...</td>\n",
              "      <td>...</td>\n",
              "      <td>...</td>\n",
              "      <td>...</td>\n",
              "      <td>...</td>\n",
              "      <td>...</td>\n",
              "      <td>...</td>\n",
              "    </tr>\n",
              "    <tr>\n",
              "      <th>210</th>\n",
              "      <td>762</td>\n",
              "      <td>211</td>\n",
              "      <td>160.565</td>\n",
              "      <td>0.73436</td>\n",
              "      <td>20862.660156</td>\n",
              "      <td>3.013513</td>\n",
              "      <td>17.186405</td>\n",
              "      <td>NaN</td>\n",
              "      <td>NaN</td>\n",
              "      <td>NaN</td>\n",
              "    </tr>\n",
              "    <tr>\n",
              "      <th>211</th>\n",
              "      <td>762</td>\n",
              "      <td>212</td>\n",
              "      <td>160.964</td>\n",
              "      <td>0.73750</td>\n",
              "      <td>20716.890625</td>\n",
              "      <td>3.013513</td>\n",
              "      <td>17.300003</td>\n",
              "      <td>NaN</td>\n",
              "      <td>NaN</td>\n",
              "      <td>NaN</td>\n",
              "    </tr>\n",
              "    <tr>\n",
              "      <th>212</th>\n",
              "      <td>762</td>\n",
              "      <td>213</td>\n",
              "      <td>161.369</td>\n",
              "      <td>0.74056</td>\n",
              "      <td>20557.337891</td>\n",
              "      <td>3.013513</td>\n",
              "      <td>17.546461</td>\n",
              "      <td>NaN</td>\n",
              "      <td>NaN</td>\n",
              "      <td>NaN</td>\n",
              "    </tr>\n",
              "    <tr>\n",
              "      <th>213</th>\n",
              "      <td>762</td>\n",
              "      <td>214</td>\n",
              "      <td>161.657</td>\n",
              "      <td>0.74288</td>\n",
              "      <td>20433.939453</td>\n",
              "      <td>3.013513</td>\n",
              "      <td>17.671289</td>\n",
              "      <td>NaN</td>\n",
              "      <td>NaN</td>\n",
              "      <td>NaN</td>\n",
              "    </tr>\n",
              "    <tr>\n",
              "      <th>214</th>\n",
              "      <td>762</td>\n",
              "      <td>215</td>\n",
              "      <td>161.761</td>\n",
              "      <td>0.74368</td>\n",
              "      <td>20390.447266</td>\n",
              "      <td>3.013513</td>\n",
              "      <td>17.671289</td>\n",
              "      <td>NaN</td>\n",
              "      <td>NaN</td>\n",
              "      <td>NaN</td>\n",
              "    </tr>\n",
              "  </tbody>\n",
              "</table>\n",
              "<p>215 rows × 10 columns</p>\n",
              "</div>\n",
              "      <button class=\"colab-df-convert\" onclick=\"convertToInteractive('df-1d4cc38d-96d1-4367-b000-713a303254ce')\"\n",
              "              title=\"Convert this dataframe to an interactive table.\"\n",
              "              style=\"display:none;\">\n",
              "        \n",
              "  <svg xmlns=\"http://www.w3.org/2000/svg\" height=\"24px\"viewBox=\"0 0 24 24\"\n",
              "       width=\"24px\">\n",
              "    <path d=\"M0 0h24v24H0V0z\" fill=\"none\"/>\n",
              "    <path d=\"M18.56 5.44l.94 2.06.94-2.06 2.06-.94-2.06-.94-.94-2.06-.94 2.06-2.06.94zm-11 1L8.5 8.5l.94-2.06 2.06-.94-2.06-.94L8.5 2.5l-.94 2.06-2.06.94zm10 10l.94 2.06.94-2.06 2.06-.94-2.06-.94-.94-2.06-.94 2.06-2.06.94z\"/><path d=\"M17.41 7.96l-1.37-1.37c-.4-.4-.92-.59-1.43-.59-.52 0-1.04.2-1.43.59L10.3 9.45l-7.72 7.72c-.78.78-.78 2.05 0 2.83L4 21.41c.39.39.9.59 1.41.59.51 0 1.02-.2 1.41-.59l7.78-7.78 2.81-2.81c.8-.78.8-2.07 0-2.86zM5.41 20L4 18.59l7.72-7.72 1.47 1.35L5.41 20z\"/>\n",
              "  </svg>\n",
              "      </button>\n",
              "      \n",
              "  <style>\n",
              "    .colab-df-container {\n",
              "      display:flex;\n",
              "      flex-wrap:wrap;\n",
              "      gap: 12px;\n",
              "    }\n",
              "\n",
              "    .colab-df-convert {\n",
              "      background-color: #E8F0FE;\n",
              "      border: none;\n",
              "      border-radius: 50%;\n",
              "      cursor: pointer;\n",
              "      display: none;\n",
              "      fill: #1967D2;\n",
              "      height: 32px;\n",
              "      padding: 0 0 0 0;\n",
              "      width: 32px;\n",
              "    }\n",
              "\n",
              "    .colab-df-convert:hover {\n",
              "      background-color: #E2EBFA;\n",
              "      box-shadow: 0px 1px 2px rgba(60, 64, 67, 0.3), 0px 1px 3px 1px rgba(60, 64, 67, 0.15);\n",
              "      fill: #174EA6;\n",
              "    }\n",
              "\n",
              "    [theme=dark] .colab-df-convert {\n",
              "      background-color: #3B4455;\n",
              "      fill: #D2E3FC;\n",
              "    }\n",
              "\n",
              "    [theme=dark] .colab-df-convert:hover {\n",
              "      background-color: #434B5C;\n",
              "      box-shadow: 0px 1px 3px 1px rgba(0, 0, 0, 0.15);\n",
              "      filter: drop-shadow(0px 1px 2px rgba(0, 0, 0, 0.3));\n",
              "      fill: #FFFFFF;\n",
              "    }\n",
              "  </style>\n",
              "\n",
              "      <script>\n",
              "        const buttonEl =\n",
              "          document.querySelector('#df-1d4cc38d-96d1-4367-b000-713a303254ce button.colab-df-convert');\n",
              "        buttonEl.style.display =\n",
              "          google.colab.kernel.accessAllowed ? 'block' : 'none';\n",
              "\n",
              "        async function convertToInteractive(key) {\n",
              "          const element = document.querySelector('#df-1d4cc38d-96d1-4367-b000-713a303254ce');\n",
              "          const dataTable =\n",
              "            await google.colab.kernel.invokeFunction('convertToInteractive',\n",
              "                                                     [key], {});\n",
              "          if (!dataTable) return;\n",
              "\n",
              "          const docLinkHtml = 'Like what you see? Visit the ' +\n",
              "            '<a target=\"_blank\" href=https://colab.research.google.com/notebooks/data_table.ipynb>data table notebook</a>'\n",
              "            + ' to learn more about interactive tables.';\n",
              "          element.innerHTML = '';\n",
              "          dataTable['output_type'] = 'display_data';\n",
              "          await google.colab.output.renderOutput(dataTable, element);\n",
              "          const docLink = document.createElement('div');\n",
              "          docLink.innerHTML = docLinkHtml;\n",
              "          element.appendChild(docLink);\n",
              "        }\n",
              "      </script>\n",
              "    </div>\n",
              "  </div>\n",
              "  "
            ]
          },
          "metadata": {},
          "execution_count": 4
        }
      ]
    },
    {
      "cell_type": "code",
      "source": [
        "df_steel.head()"
      ],
      "metadata": {
        "colab": {
          "base_uri": "https://localhost:8080/",
          "height": 206
        },
        "id": "V8ktM--5onkE",
        "outputId": "f5f269f6-150a-4d40-b284-bbe1cbd114d5"
      },
      "execution_count": 5,
      "outputs": [
        {
          "output_type": "execute_result",
          "data": {
            "text/plain": [
              "   TESTNUM  POINTNUM    TIME    POSIT       FORCE       EXT       CH5  CH6  \\\n",
              "0      762         1   5.969  0.01284  201.030792  0.001572 -0.007133  NaN   \n",
              "1      762         2   6.242  0.01392  215.235886  0.000009 -0.014581  NaN   \n",
              "2      762         3   6.936  0.01646  246.816742 -0.000832  0.006942  NaN   \n",
              "3      762         4   8.632  0.02340  371.870361  0.002203  0.000776  NaN   \n",
              "4      762         5  10.533  0.03110  502.501862  0.001481  0.018102  NaN   \n",
              "\n",
              "   CH7  CH8  \n",
              "0  NaN  NaN  \n",
              "1  NaN  NaN  \n",
              "2  NaN  NaN  \n",
              "3  NaN  NaN  \n",
              "4  NaN  NaN  "
            ],
            "text/html": [
              "\n",
              "  <div id=\"df-29e2c71c-982d-4812-a1f9-380184088e7f\">\n",
              "    <div class=\"colab-df-container\">\n",
              "      <div>\n",
              "<style scoped>\n",
              "    .dataframe tbody tr th:only-of-type {\n",
              "        vertical-align: middle;\n",
              "    }\n",
              "\n",
              "    .dataframe tbody tr th {\n",
              "        vertical-align: top;\n",
              "    }\n",
              "\n",
              "    .dataframe thead th {\n",
              "        text-align: right;\n",
              "    }\n",
              "</style>\n",
              "<table border=\"1\" class=\"dataframe\">\n",
              "  <thead>\n",
              "    <tr style=\"text-align: right;\">\n",
              "      <th></th>\n",
              "      <th>TESTNUM</th>\n",
              "      <th>POINTNUM</th>\n",
              "      <th>TIME</th>\n",
              "      <th>POSIT</th>\n",
              "      <th>FORCE</th>\n",
              "      <th>EXT</th>\n",
              "      <th>CH5</th>\n",
              "      <th>CH6</th>\n",
              "      <th>CH7</th>\n",
              "      <th>CH8</th>\n",
              "    </tr>\n",
              "  </thead>\n",
              "  <tbody>\n",
              "    <tr>\n",
              "      <th>0</th>\n",
              "      <td>762</td>\n",
              "      <td>1</td>\n",
              "      <td>5.969</td>\n",
              "      <td>0.01284</td>\n",
              "      <td>201.030792</td>\n",
              "      <td>0.001572</td>\n",
              "      <td>-0.007133</td>\n",
              "      <td>NaN</td>\n",
              "      <td>NaN</td>\n",
              "      <td>NaN</td>\n",
              "    </tr>\n",
              "    <tr>\n",
              "      <th>1</th>\n",
              "      <td>762</td>\n",
              "      <td>2</td>\n",
              "      <td>6.242</td>\n",
              "      <td>0.01392</td>\n",
              "      <td>215.235886</td>\n",
              "      <td>0.000009</td>\n",
              "      <td>-0.014581</td>\n",
              "      <td>NaN</td>\n",
              "      <td>NaN</td>\n",
              "      <td>NaN</td>\n",
              "    </tr>\n",
              "    <tr>\n",
              "      <th>2</th>\n",
              "      <td>762</td>\n",
              "      <td>3</td>\n",
              "      <td>6.936</td>\n",
              "      <td>0.01646</td>\n",
              "      <td>246.816742</td>\n",
              "      <td>-0.000832</td>\n",
              "      <td>0.006942</td>\n",
              "      <td>NaN</td>\n",
              "      <td>NaN</td>\n",
              "      <td>NaN</td>\n",
              "    </tr>\n",
              "    <tr>\n",
              "      <th>3</th>\n",
              "      <td>762</td>\n",
              "      <td>4</td>\n",
              "      <td>8.632</td>\n",
              "      <td>0.02340</td>\n",
              "      <td>371.870361</td>\n",
              "      <td>0.002203</td>\n",
              "      <td>0.000776</td>\n",
              "      <td>NaN</td>\n",
              "      <td>NaN</td>\n",
              "      <td>NaN</td>\n",
              "    </tr>\n",
              "    <tr>\n",
              "      <th>4</th>\n",
              "      <td>762</td>\n",
              "      <td>5</td>\n",
              "      <td>10.533</td>\n",
              "      <td>0.03110</td>\n",
              "      <td>502.501862</td>\n",
              "      <td>0.001481</td>\n",
              "      <td>0.018102</td>\n",
              "      <td>NaN</td>\n",
              "      <td>NaN</td>\n",
              "      <td>NaN</td>\n",
              "    </tr>\n",
              "  </tbody>\n",
              "</table>\n",
              "</div>\n",
              "      <button class=\"colab-df-convert\" onclick=\"convertToInteractive('df-29e2c71c-982d-4812-a1f9-380184088e7f')\"\n",
              "              title=\"Convert this dataframe to an interactive table.\"\n",
              "              style=\"display:none;\">\n",
              "        \n",
              "  <svg xmlns=\"http://www.w3.org/2000/svg\" height=\"24px\"viewBox=\"0 0 24 24\"\n",
              "       width=\"24px\">\n",
              "    <path d=\"M0 0h24v24H0V0z\" fill=\"none\"/>\n",
              "    <path d=\"M18.56 5.44l.94 2.06.94-2.06 2.06-.94-2.06-.94-.94-2.06-.94 2.06-2.06.94zm-11 1L8.5 8.5l.94-2.06 2.06-.94-2.06-.94L8.5 2.5l-.94 2.06-2.06.94zm10 10l.94 2.06.94-2.06 2.06-.94-2.06-.94-.94-2.06-.94 2.06-2.06.94z\"/><path d=\"M17.41 7.96l-1.37-1.37c-.4-.4-.92-.59-1.43-.59-.52 0-1.04.2-1.43.59L10.3 9.45l-7.72 7.72c-.78.78-.78 2.05 0 2.83L4 21.41c.39.39.9.59 1.41.59.51 0 1.02-.2 1.41-.59l7.78-7.78 2.81-2.81c.8-.78.8-2.07 0-2.86zM5.41 20L4 18.59l7.72-7.72 1.47 1.35L5.41 20z\"/>\n",
              "  </svg>\n",
              "      </button>\n",
              "      \n",
              "  <style>\n",
              "    .colab-df-container {\n",
              "      display:flex;\n",
              "      flex-wrap:wrap;\n",
              "      gap: 12px;\n",
              "    }\n",
              "\n",
              "    .colab-df-convert {\n",
              "      background-color: #E8F0FE;\n",
              "      border: none;\n",
              "      border-radius: 50%;\n",
              "      cursor: pointer;\n",
              "      display: none;\n",
              "      fill: #1967D2;\n",
              "      height: 32px;\n",
              "      padding: 0 0 0 0;\n",
              "      width: 32px;\n",
              "    }\n",
              "\n",
              "    .colab-df-convert:hover {\n",
              "      background-color: #E2EBFA;\n",
              "      box-shadow: 0px 1px 2px rgba(60, 64, 67, 0.3), 0px 1px 3px 1px rgba(60, 64, 67, 0.15);\n",
              "      fill: #174EA6;\n",
              "    }\n",
              "\n",
              "    [theme=dark] .colab-df-convert {\n",
              "      background-color: #3B4455;\n",
              "      fill: #D2E3FC;\n",
              "    }\n",
              "\n",
              "    [theme=dark] .colab-df-convert:hover {\n",
              "      background-color: #434B5C;\n",
              "      box-shadow: 0px 1px 3px 1px rgba(0, 0, 0, 0.15);\n",
              "      filter: drop-shadow(0px 1px 2px rgba(0, 0, 0, 0.3));\n",
              "      fill: #FFFFFF;\n",
              "    }\n",
              "  </style>\n",
              "\n",
              "      <script>\n",
              "        const buttonEl =\n",
              "          document.querySelector('#df-29e2c71c-982d-4812-a1f9-380184088e7f button.colab-df-convert');\n",
              "        buttonEl.style.display =\n",
              "          google.colab.kernel.accessAllowed ? 'block' : 'none';\n",
              "\n",
              "        async function convertToInteractive(key) {\n",
              "          const element = document.querySelector('#df-29e2c71c-982d-4812-a1f9-380184088e7f');\n",
              "          const dataTable =\n",
              "            await google.colab.kernel.invokeFunction('convertToInteractive',\n",
              "                                                     [key], {});\n",
              "          if (!dataTable) return;\n",
              "\n",
              "          const docLinkHtml = 'Like what you see? Visit the ' +\n",
              "            '<a target=\"_blank\" href=https://colab.research.google.com/notebooks/data_table.ipynb>data table notebook</a>'\n",
              "            + ' to learn more about interactive tables.';\n",
              "          element.innerHTML = '';\n",
              "          dataTable['output_type'] = 'display_data';\n",
              "          await google.colab.output.renderOutput(dataTable, element);\n",
              "          const docLink = document.createElement('div');\n",
              "          docLink.innerHTML = docLinkHtml;\n",
              "          element.appendChild(docLink);\n",
              "        }\n",
              "      </script>\n",
              "    </div>\n",
              "  </div>\n",
              "  "
            ]
          },
          "metadata": {},
          "execution_count": 5
        }
      ]
    },
    {
      "cell_type": "code",
      "source": [
        "df_al.head()"
      ],
      "metadata": {
        "colab": {
          "base_uri": "https://localhost:8080/",
          "height": 206
        },
        "id": "K-4YjarBo5zj",
        "outputId": "cdb81cdd-6df5-481e-da4a-bfe86d067ea6"
      },
      "execution_count": 6,
      "outputs": [
        {
          "output_type": "execute_result",
          "data": {
            "text/plain": [
              "   TESTNUM  POINTNUM    TIME    POSIT       FORCE       EXT       CH5  CH6  \\\n",
              "0      761         1   6.532  0.01524  201.158508  0.018893 -0.023081  NaN   \n",
              "1      761         2   6.702  0.01600  205.978119  0.000265 -0.013024  NaN   \n",
              "2      761         3   7.098  0.01720  219.295441 -0.000877 -0.024879  NaN   \n",
              "3      761         4   8.697  0.02350  268.505890  0.001453 -0.006798  NaN   \n",
              "4      761         5  10.196  0.03004  322.028168  0.001865  0.012563  NaN   \n",
              "\n",
              "   CH7  CH8  \n",
              "0  NaN  NaN  \n",
              "1  NaN  NaN  \n",
              "2  NaN  NaN  \n",
              "3  NaN  NaN  \n",
              "4  NaN  NaN  "
            ],
            "text/html": [
              "\n",
              "  <div id=\"df-62c18960-f293-4e6d-a5af-5329f7463a82\">\n",
              "    <div class=\"colab-df-container\">\n",
              "      <div>\n",
              "<style scoped>\n",
              "    .dataframe tbody tr th:only-of-type {\n",
              "        vertical-align: middle;\n",
              "    }\n",
              "\n",
              "    .dataframe tbody tr th {\n",
              "        vertical-align: top;\n",
              "    }\n",
              "\n",
              "    .dataframe thead th {\n",
              "        text-align: right;\n",
              "    }\n",
              "</style>\n",
              "<table border=\"1\" class=\"dataframe\">\n",
              "  <thead>\n",
              "    <tr style=\"text-align: right;\">\n",
              "      <th></th>\n",
              "      <th>TESTNUM</th>\n",
              "      <th>POINTNUM</th>\n",
              "      <th>TIME</th>\n",
              "      <th>POSIT</th>\n",
              "      <th>FORCE</th>\n",
              "      <th>EXT</th>\n",
              "      <th>CH5</th>\n",
              "      <th>CH6</th>\n",
              "      <th>CH7</th>\n",
              "      <th>CH8</th>\n",
              "    </tr>\n",
              "  </thead>\n",
              "  <tbody>\n",
              "    <tr>\n",
              "      <th>0</th>\n",
              "      <td>761</td>\n",
              "      <td>1</td>\n",
              "      <td>6.532</td>\n",
              "      <td>0.01524</td>\n",
              "      <td>201.158508</td>\n",
              "      <td>0.018893</td>\n",
              "      <td>-0.023081</td>\n",
              "      <td>NaN</td>\n",
              "      <td>NaN</td>\n",
              "      <td>NaN</td>\n",
              "    </tr>\n",
              "    <tr>\n",
              "      <th>1</th>\n",
              "      <td>761</td>\n",
              "      <td>2</td>\n",
              "      <td>6.702</td>\n",
              "      <td>0.01600</td>\n",
              "      <td>205.978119</td>\n",
              "      <td>0.000265</td>\n",
              "      <td>-0.013024</td>\n",
              "      <td>NaN</td>\n",
              "      <td>NaN</td>\n",
              "      <td>NaN</td>\n",
              "    </tr>\n",
              "    <tr>\n",
              "      <th>2</th>\n",
              "      <td>761</td>\n",
              "      <td>3</td>\n",
              "      <td>7.098</td>\n",
              "      <td>0.01720</td>\n",
              "      <td>219.295441</td>\n",
              "      <td>-0.000877</td>\n",
              "      <td>-0.024879</td>\n",
              "      <td>NaN</td>\n",
              "      <td>NaN</td>\n",
              "      <td>NaN</td>\n",
              "    </tr>\n",
              "    <tr>\n",
              "      <th>3</th>\n",
              "      <td>761</td>\n",
              "      <td>4</td>\n",
              "      <td>8.697</td>\n",
              "      <td>0.02350</td>\n",
              "      <td>268.505890</td>\n",
              "      <td>0.001453</td>\n",
              "      <td>-0.006798</td>\n",
              "      <td>NaN</td>\n",
              "      <td>NaN</td>\n",
              "      <td>NaN</td>\n",
              "    </tr>\n",
              "    <tr>\n",
              "      <th>4</th>\n",
              "      <td>761</td>\n",
              "      <td>5</td>\n",
              "      <td>10.196</td>\n",
              "      <td>0.03004</td>\n",
              "      <td>322.028168</td>\n",
              "      <td>0.001865</td>\n",
              "      <td>0.012563</td>\n",
              "      <td>NaN</td>\n",
              "      <td>NaN</td>\n",
              "      <td>NaN</td>\n",
              "    </tr>\n",
              "  </tbody>\n",
              "</table>\n",
              "</div>\n",
              "      <button class=\"colab-df-convert\" onclick=\"convertToInteractive('df-62c18960-f293-4e6d-a5af-5329f7463a82')\"\n",
              "              title=\"Convert this dataframe to an interactive table.\"\n",
              "              style=\"display:none;\">\n",
              "        \n",
              "  <svg xmlns=\"http://www.w3.org/2000/svg\" height=\"24px\"viewBox=\"0 0 24 24\"\n",
              "       width=\"24px\">\n",
              "    <path d=\"M0 0h24v24H0V0z\" fill=\"none\"/>\n",
              "    <path d=\"M18.56 5.44l.94 2.06.94-2.06 2.06-.94-2.06-.94-.94-2.06-.94 2.06-2.06.94zm-11 1L8.5 8.5l.94-2.06 2.06-.94-2.06-.94L8.5 2.5l-.94 2.06-2.06.94zm10 10l.94 2.06.94-2.06 2.06-.94-2.06-.94-.94-2.06-.94 2.06-2.06.94z\"/><path d=\"M17.41 7.96l-1.37-1.37c-.4-.4-.92-.59-1.43-.59-.52 0-1.04.2-1.43.59L10.3 9.45l-7.72 7.72c-.78.78-.78 2.05 0 2.83L4 21.41c.39.39.9.59 1.41.59.51 0 1.02-.2 1.41-.59l7.78-7.78 2.81-2.81c.8-.78.8-2.07 0-2.86zM5.41 20L4 18.59l7.72-7.72 1.47 1.35L5.41 20z\"/>\n",
              "  </svg>\n",
              "      </button>\n",
              "      \n",
              "  <style>\n",
              "    .colab-df-container {\n",
              "      display:flex;\n",
              "      flex-wrap:wrap;\n",
              "      gap: 12px;\n",
              "    }\n",
              "\n",
              "    .colab-df-convert {\n",
              "      background-color: #E8F0FE;\n",
              "      border: none;\n",
              "      border-radius: 50%;\n",
              "      cursor: pointer;\n",
              "      display: none;\n",
              "      fill: #1967D2;\n",
              "      height: 32px;\n",
              "      padding: 0 0 0 0;\n",
              "      width: 32px;\n",
              "    }\n",
              "\n",
              "    .colab-df-convert:hover {\n",
              "      background-color: #E2EBFA;\n",
              "      box-shadow: 0px 1px 2px rgba(60, 64, 67, 0.3), 0px 1px 3px 1px rgba(60, 64, 67, 0.15);\n",
              "      fill: #174EA6;\n",
              "    }\n",
              "\n",
              "    [theme=dark] .colab-df-convert {\n",
              "      background-color: #3B4455;\n",
              "      fill: #D2E3FC;\n",
              "    }\n",
              "\n",
              "    [theme=dark] .colab-df-convert:hover {\n",
              "      background-color: #434B5C;\n",
              "      box-shadow: 0px 1px 3px 1px rgba(0, 0, 0, 0.15);\n",
              "      filter: drop-shadow(0px 1px 2px rgba(0, 0, 0, 0.3));\n",
              "      fill: #FFFFFF;\n",
              "    }\n",
              "  </style>\n",
              "\n",
              "      <script>\n",
              "        const buttonEl =\n",
              "          document.querySelector('#df-62c18960-f293-4e6d-a5af-5329f7463a82 button.colab-df-convert');\n",
              "        buttonEl.style.display =\n",
              "          google.colab.kernel.accessAllowed ? 'block' : 'none';\n",
              "\n",
              "        async function convertToInteractive(key) {\n",
              "          const element = document.querySelector('#df-62c18960-f293-4e6d-a5af-5329f7463a82');\n",
              "          const dataTable =\n",
              "            await google.colab.kernel.invokeFunction('convertToInteractive',\n",
              "                                                     [key], {});\n",
              "          if (!dataTable) return;\n",
              "\n",
              "          const docLinkHtml = 'Like what you see? Visit the ' +\n",
              "            '<a target=\"_blank\" href=https://colab.research.google.com/notebooks/data_table.ipynb>data table notebook</a>'\n",
              "            + ' to learn more about interactive tables.';\n",
              "          element.innerHTML = '';\n",
              "          dataTable['output_type'] = 'display_data';\n",
              "          await google.colab.output.renderOutput(dataTable, element);\n",
              "          const docLink = document.createElement('div');\n",
              "          docLink.innerHTML = docLinkHtml;\n",
              "          element.appendChild(docLink);\n",
              "        }\n",
              "      </script>\n",
              "    </div>\n",
              "  </div>\n",
              "  "
            ]
          },
          "metadata": {},
          "execution_count": 6
        }
      ]
    },
    {
      "cell_type": "code",
      "source": [
        "d = 0.506"
      ],
      "metadata": {
        "id": "pfDnxHjno7o0"
      },
      "execution_count": 7,
      "outputs": []
    },
    {
      "cell_type": "code",
      "source": [
        "r = d/2"
      ],
      "metadata": {
        "id": "1dMIUwoVpS6a"
      },
      "execution_count": 8,
      "outputs": []
    },
    {
      "cell_type": "code",
      "source": [
        "r"
      ],
      "metadata": {
        "colab": {
          "base_uri": "https://localhost:8080/"
        },
        "id": "Ss9Umzr5pUar",
        "outputId": "5cb33b7e-f7b6-4662-efa7-78f3fd7ded41"
      },
      "execution_count": 9,
      "outputs": [
        {
          "output_type": "execute_result",
          "data": {
            "text/plain": [
              "0.253"
            ]
          },
          "metadata": {},
          "execution_count": 9
        }
      ]
    },
    {
      "cell_type": "code",
      "source": [
        "A = np.pi*r**2\n",
        "A"
      ],
      "metadata": {
        "colab": {
          "base_uri": "https://localhost:8080/"
        },
        "id": "YNflMpHypU5S",
        "outputId": "4c9e153c-a4cc-4626-d52d-b324ffd412ea"
      },
      "execution_count": 10,
      "outputs": [
        {
          "output_type": "execute_result",
          "data": {
            "text/plain": [
              "0.20109020416362905"
            ]
          },
          "metadata": {},
          "execution_count": 10
        }
      ]
    },
    {
      "cell_type": "code",
      "source": [
        "stress_steel = (df_steel['FORCE']/A)*0.001\n",
        "strain_steel = (df_steel['CH5']*0.01)"
      ],
      "metadata": {
        "id": "4d7pEc56pZsa"
      },
      "execution_count": 11,
      "outputs": []
    },
    {
      "cell_type": "code",
      "source": [
        "stress_al = (df_al['FORCE']/A)*0.001\n",
        "strain_al = (df_al['CH5']*0.01)"
      ],
      "metadata": {
        "id": "EjQfZsAZqZ6T"
      },
      "execution_count": 12,
      "outputs": []
    },
    {
      "cell_type": "markdown",
      "source": [
        "<h4><b>Plot the Full Stress Strain Curve</b></h4>"
      ],
      "metadata": {
        "id": "xsq92JU-q_5h"
      }
    },
    {
      "cell_type": "code",
      "source": [
        "fig, ax = plt.subplots()\n",
        "ax.plot(strain_al, stress_al)\n",
        "ax.plot(strain_steel, stress_steel)\n",
        "ax.set_xlabel('Strain')\n",
        "ax.set_ylabel('Stress(kn/mm2')\n",
        "ax.set_title('Stress-Strain Curve of AL6061 and Steel 1018 in Tension')\n",
        "ax.legend(['AL6061', 'STEEL1018'])\n",
        "plt.show()"
      ],
      "metadata": {
        "colab": {
          "base_uri": "https://localhost:8080/",
          "height": 295
        },
        "id": "4jmIIjV9qzaS",
        "outputId": "ca4df17e-8738-4909-8616-274f4bf03c0a"
      },
      "execution_count": 13,
      "outputs": [
        {
          "output_type": "display_data",
          "data": {
            "text/plain": [
              "<Figure size 432x288 with 1 Axes>"
            ],
            "image/png": "[encoded data removed]"
          },
          "metadata": {
            "needs_background": "light"
          }
        }
      ]
    },
    {
      "cell_type": "markdown",
      "source": [
        "<h4><b>Calculate Tensile Strenght</b></h4>"
      ],
      "metadata": {
        "id": "eNzWD8Ors6ab"
      }
    },
    {
      "cell_type": "code",
      "source": [
        "ts_al = np.max(stress_al)\n",
        "final_ts_al = 6.8976 * ts_al\n",
        "print(f\"The Tensile Strenght of Aluminium in Kn/mm2 :{round(final_ts_al, 2)} Kn/mm2\")"
      ],
      "metadata": {
        "colab": {
          "base_uri": "https://localhost:8080/"
        },
        "id": "2eIjkJYvq89K",
        "outputId": "00d5bcf5-ee57-47c1-a7d6-7be78192e262"
      },
      "execution_count": 14,
      "outputs": [
        {
          "output_type": "stream",
          "name": "stdout",
          "text": [
            "The Tensile Strenght of Aluminium in Kn/mm2 :334.27 Kn/mm2\n"
          ]
        }
      ]
    },
    {
      "cell_type": "code",
      "source": [
        "ts_steel = np.max(stress_steel)\n",
        "final_ts_steel = 6.8976 * ts_steel\n",
        "print(f\"The Tensile Strenght of Steel in Kn/mm2 :{round(final_ts_steel, 2)} Kn/mm2\")"
      ],
      "metadata": {
        "colab": {
          "base_uri": "https://localhost:8080/"
        },
        "id": "5kQTN5Wst0YB",
        "outputId": "6a66b15d-da00-41cf-de77-bf1fc47957bc"
      },
      "execution_count": 15,
      "outputs": [
        {
          "output_type": "stream",
          "name": "stdout",
          "text": [
            "The Tensile Strenght of Steel in Kn/mm2 :851.67 Kn/mm2\n"
          ]
        }
      ]
    },
    {
      "cell_type": "markdown",
      "source": [
        "<h4><b>Calculate Elastic Modulus</b></h4>"
      ],
      "metadata": {
        "id": "3cykuM4XuWRY"
      }
    },
    {
      "cell_type": "code",
      "source": [
        "fig, ax = plt.subplots()\n",
        "ax.plot(strain_al, stress_al)\n",
        "ax.plot(strain_steel, stress_steel)\n",
        "\n",
        "ax.set_title(\"Inset of Elastic Region\")\n",
        "ax.set_xlabel(\"Strain\")\n",
        "ax.set_ylabel(\"Stress (Kn/mm2)\")\n",
        "ax.legend(['AL6061', 'STEEL1018'])\n",
        "ax.set_xlim([0, 0.003])\n",
        "ax.set_ylim([0, 75])\n",
        "plt.show()"
      ],
      "metadata": {
        "colab": {
          "base_uri": "https://localhost:8080/",
          "height": 295
        },
        "id": "VF-7STc_uSV6",
        "outputId": "b277089c-5e38-4967-86c6-a4bad6723c6a"
      },
      "execution_count": 16,
      "outputs": [
        {
          "output_type": "display_data",
          "data": {
            "text/plain": [
              "<Figure size 432x288 with 1 Axes>"
            ],
            "image/png": "[encoded data removed]"
          },
          "metadata": {
            "needs_background": "light"
          }
        }
      ]
    },
    {
      "cell_type": "markdown",
      "source": [
        "<h4><b>Calculate Elastic Modulus of AL6061</b></h4>"
      ],
      "metadata": {
        "id": "Q5Ph7RLGcIBW"
      }
    },
    {
      "cell_type": "code",
      "source": [
        "# use stress and strain values from stress = 0 to 35 N/mm2.\n",
        "linear_stress_al_mask = stress_al < 35\n",
        "linear_stress_al = stress_al[linear_stress_al_mask]\n",
        "linear_strain_al = strain_al[linear_stress_al_mask]"
      ],
      "metadata": {
        "id": "1GL23emDvcJa"
      },
      "execution_count": 17,
      "outputs": []
    },
    {
      "cell_type": "code",
      "source": [
        "linear_stress_al"
      ],
      "metadata": {
        "colab": {
          "base_uri": "https://localhost:8080/"
        },
        "id": "2w1-D7Cwc4a3",
        "outputId": "a0613369-a4c1-4b67-8b02-f1fe59974eb7"
      },
      "execution_count": 18,
      "outputs": [
        {
          "output_type": "execute_result",
          "data": {
            "text/plain": [
              "0       1.000340\n",
              "1       1.024307\n",
              "2       1.090533\n",
              "3       1.335251\n",
              "4       1.601412\n",
              "         ...    \n",
              "112    33.324281\n",
              "113    33.668938\n",
              "114    33.987126\n",
              "115    34.332404\n",
              "116    34.663815\n",
              "Name: FORCE, Length: 117, dtype: float64"
            ]
          },
          "metadata": {},
          "execution_count": 18
        }
      ]
    },
    {
      "cell_type": "code",
      "source": [
        "linear_strain_al"
      ],
      "metadata": {
        "colab": {
          "base_uri": "https://localhost:8080/"
        },
        "id": "jphgpXgpc7cl",
        "outputId": "46bf8728-41a9-481a-bf2f-319220860e1b"
      },
      "execution_count": 19,
      "outputs": [
        {
          "output_type": "execute_result",
          "data": {
            "text/plain": [
              "0     -0.000231\n",
              "1     -0.000130\n",
              "2     -0.000249\n",
              "3     -0.000068\n",
              "4      0.000126\n",
              "         ...   \n",
              "112    0.002675\n",
              "113    0.002595\n",
              "114    0.002801\n",
              "115    0.002875\n",
              "116    0.002943\n",
              "Name: CH5, Length: 117, dtype: float64"
            ]
          },
          "metadata": {},
          "execution_count": 19
        }
      ]
    },
    {
      "cell_type": "code",
      "source": [
        "from scipy.stats import linregress\n",
        "\n",
        "linear_regression_output = linregress(linear_strain_al, linear_stress_al)\n",
        "E_al = linear_regression_output[0]\n",
        "final_E_al = 6.8976 * E_al\n",
        "print(f\"The Elastic Modulus of AL6061 is {round(final_E_al, 2)} Kn/mm2\")"
      ],
      "metadata": {
        "colab": {
          "base_uri": "https://localhost:8080/"
        },
        "id": "D1Cf_zxNc-81",
        "outputId": "c3c86e36-736c-4081-d1b3-3395894d2f1b"
      },
      "execution_count": 21,
      "outputs": [
        {
          "output_type": "stream",
          "name": "stdout",
          "text": [
            "The Elastic Modulus of AL6061 is 89631.51 Kn/mm2\n"
          ]
        }
      ]
    },
    {
      "cell_type": "markdown",
      "source": [
        "<h4><b>Calculate Elastic Modulus of STEEL1018</b></h4>"
      ],
      "metadata": {
        "id": "E-6hJ9gSd6s1"
      }
    },
    {
      "cell_type": "code",
      "source": [
        "# use stress and strain values from stress = 0 to 55 N/mm2\n",
        "linear_stress_steel_mask = stress_steel < 55\n",
        "linear_stress_steel = stress_steel[linear_stress_steel_mask]\n",
        "linear_strain_steel = strain_steel[linear_stress_steel_mask]\n",
        "\n",
        "linear_regression_output_steel = linregress(linear_strain_steel, linear_stress_steel)\n",
        "E_steel = linear_regression_output_steel[0]\n",
        "final_E_steel = 6.8976 * E_steel\n",
        "print(f\"The Elastic Modulus of Steel1018 is {round(final_E_steel, 2)} Kn/mm2.\")"
      ],
      "metadata": {
        "colab": {
          "base_uri": "https://localhost:8080/"
        },
        "id": "vqDpQrXAdvDL",
        "outputId": "35cb80ba-980f-4e7f-deb6-09ad73349177"
      },
      "execution_count": 22,
      "outputs": [
        {
          "output_type": "stream",
          "name": "stdout",
          "text": [
            "The Elastic Modulus of Steel1018 is 192235.18 Kn/mm2.\n"
          ]
        }
      ]
    },
    {
      "cell_type": "markdown",
      "source": [
        "<h4><b>Calculate Ductility</b></h4>"
      ],
      "metadata": {
        "id": "MLXdJ-FdfmHm"
      }
    },
    {
      "cell_type": "code",
      "source": [
        "# Find the Ductility of AL6061\n",
        "stress_al_array = np.array(stress_al)\n",
        "stress_al_last = stress_al_array[-1]\n",
        "strain_al_array = np.array(strain_al)\n",
        "strain_al_last = strain_al_array[-1]\n",
        "EL_al = -stress_al_last/final_E_al + strain_al_last\n",
        "print(f\"The Ductility of AL6061 is {round(EL_al*100,2)}%\")"
      ],
      "metadata": {
        "colab": {
          "base_uri": "https://localhost:8080/"
        },
        "id": "EPMCdRjAfguY",
        "outputId": "a39953b2-b923-4e01-cf72-5656f252b317"
      },
      "execution_count": 24,
      "outputs": [
        {
          "output_type": "stream",
          "name": "stdout",
          "text": [
            "The Ductility of AL6061 is 17.7%\n"
          ]
        }
      ]
    },
    {
      "cell_type": "code",
      "source": [
        "# Find the Ductility of Steel1018\n",
        "stress_steel_array = np.array(stress_steel)\n",
        "stress_steel_last = stress_steel_array[-1]\n",
        "strain_steel_array = np.array(strain_steel)\n",
        "strain_steel_last = strain_steel_array[-1]\n",
        "EL_steel = -stress_steel_last/final_E_steel + strain_steel_last\n",
        "print(f\"The Ductility of STEEL1018 is {round(EL_steel*100,2)}%\")"
      ],
      "metadata": {
        "colab": {
          "base_uri": "https://localhost:8080/"
        },
        "id": "If8qRK-Ggpv3",
        "outputId": "b5057dfb-1bc8-4b03-e118-1b1279d960b6"
      },
      "execution_count": 25,
      "outputs": [
        {
          "output_type": "stream",
          "name": "stdout",
          "text": [
            "The Ductility of STEEL1018 is 17.62%\n"
          ]
        }
      ]
    }
  ]
}